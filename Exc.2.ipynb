{
 "cells": [
  {
   "cell_type": "code",
   "execution_count": 34,
   "id": "7c07150a-bc56-474f-88f1-b3cc9b906e58",
   "metadata": {},
   "outputs": [],
   "source": [
    "import numpy as np\n",
    "from random import random, randint "
   ]
  },
  {
   "cell_type": "code",
   "execution_count": 35,
   "id": "08d83e78-f060-45ec-b5b6-8c6b70790921",
   "metadata": {},
   "outputs": [
    {
     "name": "stdout",
     "output_type": "stream",
     "text": [
      "[ 0 -1  2 -1  4 -1  6 -1  8 -1]\n"
     ]
    }
   ],
   "source": [
    " #Замініть усі непарні числа в arr на -1 \n",
    "arr = np.array([0, 1, 2, 3, 4, 5, 6, 7, 8, 9])\n",
    "\n",
    "arr[arr % 2 != 0] = -1\n",
    "\"\"\"for i in arr:\n",
    "    if i%2 !=0:\n",
    "        arr[i]=-1\"\"\"\n",
    "          \n",
    "print(arr)\n",
    "        "
   ]
  },
  {
   "cell_type": "code",
   "execution_count": 36,
   "id": "80ed5bfa-2f28-4edf-8f49-d945e9199220",
   "metadata": {},
   "outputs": [
    {
     "name": "stdout",
     "output_type": "stream",
     "text": [
      "[4 8 2 2 8 8] [[4 8 2]\n",
      " [2 8 8]]\n"
     ]
    }
   ],
   "source": [
    "#Створіть та перетворіть 1D-масив на 2D-масив із 2 рядками\n",
    "arr_1d= np.random.randint(1,11, size = (6,))\n",
    "arr_2d = arr_1d.reshape(2,-1)\n",
    "print(arr_1d, arr_2d)\n",
    "\n"
   ]
  },
  {
   "cell_type": "code",
   "execution_count": 37,
   "id": "955cf67f-edf8-410d-8f7b-75571e254177",
   "metadata": {},
   "outputs": [
    {
     "name": "stdout",
     "output_type": "stream",
     "text": [
      "[[1 3 4]\n",
      " [3 6 9]] [[2 1 8]\n",
      " [7 3 1]] [[1 3 4]\n",
      " [3 6 9]\n",
      " [2 1 8]\n",
      " [7 3 1]]\n"
     ]
    }
   ],
   "source": [
    "#Створіть два двовимірні масиви а і b, та складіть масиви їх вертикально\n",
    "a = np.random.randint(1,10, size =(2,3))\n",
    "b = np.random.randint(1,10, size =(2,3))\n",
    "c= np.vstack((a,b))\n",
    "print(a,b, c)"
   ]
  },
  {
   "cell_type": "code",
   "execution_count": 38,
   "id": "90a92a48-f51a-4fc3-9b3a-557f0f784f12",
   "metadata": {},
   "outputs": [
    {
     "name": "stdout",
     "output_type": "stream",
     "text": [
      "[1 1 1 2 2 2 3 3 3 1 2 3 1 2 3 1 2 3]\n"
     ]
    }
   ],
   "source": [
    "#Створіть наступний шаблон без жорсткого кодування(Hard coding) . Використовуйте лише функції Numpy і наведений нижче масив введення Input:a = np.array([1,2,3])\n",
    "#Output:array([1, 1, 1, 2, 2, 2, 3, 3, 3, 1, 2, 3, 1, 2, 3, 1, 2, 3])\n",
    "a = np.array([1,2,3])\n",
    "b = np.repeat(a,3)\n",
    "c = np.tile(a,3)\n",
    "print(np.concatenate((b,c)))"
   ]
  },
  {
   "cell_type": "code",
   "execution_count": 39,
   "id": "e2ed4c2e-695c-4251-bbd6-9c9abe12746f",
   "metadata": {},
   "outputs": [
    {
     "name": "stdout",
     "output_type": "stream",
     "text": [
      "[2 4]\n"
     ]
    }
   ],
   "source": [
    "#Отримайте спільні елементи між a і b\n",
    "a = np.array([1,2,3,2,3,4,3,4,5,6]) \n",
    "b = np.array([7,2,10,2,7,4,9,4,9,8])\n",
    "com_el = np.intersect1d(a, b)\n",
    "print(com_el)"
   ]
  },
  {
   "cell_type": "code",
   "execution_count": 40,
   "id": "d182b8dd-3578-48bf-8fe3-993f4e39aa39",
   "metadata": {},
   "outputs": [
    {
     "name": "stdout",
     "output_type": "stream",
     "text": [
      "(array([15], dtype=int64),)\n",
      "(array([10], dtype=int64),)\n",
      "(array([3], dtype=int64),)\n",
      "(array([7], dtype=int64),)\n",
      "(array([18], dtype=int64),)\n",
      "[27.62684215 14.64009987 21.80136195 42.39403048  1.23122395  6.95688692\n",
      " 33.86670515 41.466785    7.69862289 29.17957314 44.67477576 11.25090398\n",
      " 10.08108276  6.31046763 11.76517714 48.95256545 40.77247431  9.42510962\n",
      " 40.99501269 14.42961361] [48.95256545 44.67477576 42.39403048 41.466785   40.99501269 40.77247431\n",
      " 33.86670515 29.17957314 27.62684215 21.80136195 14.64009987 14.42961361\n",
      " 11.76517714 11.25090398 10.08108276  9.42510962  7.69862289  6.95688692\n",
      "  6.31046763  1.23122395]\n"
     ]
    }
   ],
   "source": [
    "#6. Отримайте позиції перших 5 максимальних значень у заданому масиві a\n",
    "\n",
    "np.random.seed(100)\n",
    "a = np.random.uniform(1,50, 20)\n",
    "a_sort= np.sort(a)\n",
    "a_sort_desc= np.sort(a)[::-1]\n",
    "for i in range(5):\n",
    "    print(np.where(a==a_sort_desc[i]))\n",
    "print(a, a_sort_desc)"
   ]
  },
  {
   "cell_type": "code",
   "execution_count": 41,
   "id": "fc980e47-b58b-417d-a8fd-7cfc035c1e5d",
   "metadata": {},
   "outputs": [
    {
     "name": "stdout",
     "output_type": "stream",
     "text": [
      "[1. 2. 3. 5. 6. 7.]\n"
     ]
    }
   ],
   "source": [
    "#7. Вилучіть усі значення NaN із одновимірного масиву\n",
    "a = np.array([1,2,3,np.nan,5,6,7,np.nan])\n",
    "a = a[~np.isnan(a)]\n",
    "print(a)"
   ]
  },
  {
   "cell_type": "code",
   "execution_count": 42,
   "id": "da3a904d-94eb-48c2-912c-45b9bb25d2fd",
   "metadata": {},
   "outputs": [
    {
     "name": "stdout",
     "output_type": "stream",
     "text": [
      "6.708203932499369\n"
     ]
    }
   ],
   "source": [
    "#8. Обчисліть евклідову відстань між двома масивами a і b.\n",
    "\n",
    "a = np.array([1,2,3,4,5])\n",
    "b = np.array([4,5,6,7,8])\n",
    "distance = np.linalg.norm(a - b)\n",
    "\n",
    "print(distance)"
   ]
  },
  {
   "cell_type": "code",
   "execution_count": 52,
   "id": "5b087d27-1dcb-47ca-b643-435362759fc1",
   "metadata": {},
   "outputs": [
    {
     "name": "stdout",
     "output_type": "stream",
     "text": [
      "[0 0 3 0 2 4 2 2 2 2]\n",
      "[False  True False  True False False  True  True  True  True]\n"
     ]
    }
   ],
   "source": [
    "#10. Знайдіть повторювані записи (від 2-го випадку повторення і далі) у заданому масиві і позначте їх як True. Перше повторення має бути False.\n",
    "\n",
    "np.random.seed(100) \n",
    "a = np.random.randint(0, 5, 10)\n",
    "print(a)\n",
    "\n",
    "repeat=np.zeros(len(a), dtype=bool)\n",
    "\n",
    "counts= {}\n",
    "for i, value in enumerate(a):\n",
    "    if value in counts:\n",
    "        counts[value] +=1\n",
    "        if counts[value]>1:\n",
    "            repeat[i] = True\n",
    "    else:\n",
    "        counts[value]=1\n",
    "\n",
    "print(repeat)\n",
    "        "
   ]
  }
 ],
 "metadata": {
  "kernelspec": {
   "display_name": "Python 3 (ipykernel)",
   "language": "python",
   "name": "python3"
  },
  "language_info": {
   "codemirror_mode": {
    "name": "ipython",
    "version": 3
   },
   "file_extension": ".py",
   "mimetype": "text/x-python",
   "name": "python",
   "nbconvert_exporter": "python",
   "pygments_lexer": "ipython3",
   "version": "3.12.4"
  }
 },
 "nbformat": 4,
 "nbformat_minor": 5
}
