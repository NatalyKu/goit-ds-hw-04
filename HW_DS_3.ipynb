{
 "cells": [
  {
   "cell_type": "code",
   "execution_count": 1,
   "id": "0e90e39d-8b07-49e1-aaf7-746ef2887422",
   "metadata": {},
   "outputs": [],
   "source": [
    "import numpy as np\n",
    "from random import randint, random\n"
   ]
  },
  {
   "cell_type": "code",
   "execution_count": 5,
   "id": "089fc864-bf3e-4abf-b1ac-4bb8b0403ae9",
   "metadata": {
    "scrolled": true
   },
   "outputs": [
    {
     "name": "stdout",
     "output_type": "stream",
     "text": [
      "[ 1  2  3  4  5  6  7  8  9 10]\n"
     ]
    }
   ],
   "source": [
    "#Створіть одновимірний масив (вектор) з першими 10-ма натуральними числами та виведіть його значення.\n",
    "a1 = np.arange(1, 11)\n",
    "print(a1)\n"
   ]
  },
  {
   "cell_type": "code",
   "execution_count": 35,
   "id": "e74c9372-dfa0-400d-8d33-9a52ad996a89",
   "metadata": {},
   "outputs": [
    {
     "name": "stdout",
     "output_type": "stream",
     "text": [
      "[[0 0 0]\n",
      " [0 0 0]\n",
      " [0 0 0]]\n"
     ]
    }
   ],
   "source": [
    "#Створіть двовимірний масив (матрицю) розміром 3x3, заповніть його нулями та виведіть його значення.\n",
    "a2= np.zeros((3, 3), dtype=int)\n",
    "print(a2)"
   ]
  },
  {
   "cell_type": "code",
   "execution_count": 82,
   "id": "897b56f4-b614-4464-bdb2-8cdaa4fa3498",
   "metadata": {},
   "outputs": [
    {
     "name": "stdout",
     "output_type": "stream",
     "text": [
      "[[5 2 1 8 6]\n",
      " [5 7 7 9 3]\n",
      " [9 1 3 8 4]\n",
      " [7 2 5 6 7]\n",
      " [8 5 9 5 6]]\n"
     ]
    }
   ],
   "source": [
    "#Створіть масив розміром 5x5, заповніть його випадковими цілими числами в діапазоні від 1 до 10 та виведіть його значення.\n",
    "a3 = np.random.randint(1,10, size=(5,5))\n",
    "print(a3)"
   ]
  },
  {
   "cell_type": "code",
   "execution_count": 130,
   "id": "9177eb5a-e1e1-475e-9b17-258f5a518cc8",
   "metadata": {},
   "outputs": [
    {
     "name": "stdout",
     "output_type": "stream",
     "text": [
      "[[1. 1. 0. 1.]\n",
      " [1. 0. 1. 1.]\n",
      " [0. 0. 0. 1.]\n",
      " [1. 1. 0. 0.]]\n"
     ]
    }
   ],
   "source": [
    "#Створіть масив розміром 4x4, заповніть його випадковими дійсними числами в діапазоні від 0 до 1 та виведіть його значення.\n",
    "a4 = np.random.randint(0, 2, size=(4, 4)).astype(np.float64)\n",
    "print(a4)"
   ]
  },
  {
   "cell_type": "code",
   "execution_count": 144,
   "id": "5d6a5e64-6d63-4667-82a5-ec664fcea20d",
   "metadata": {},
   "outputs": [
    {
     "name": "stdout",
     "output_type": "stream",
     "text": [
      "[ 4  6  8  4 10] [2 3 6 2 1]\n",
      "[ 6  9 14  6 11] [2 3 2 2 9] [ 8 18 48  8 10]\n"
     ]
    }
   ],
   "source": [
    "#Exercise5 творіть два одновимірних масиви розміром 5, заповніть їх випадковими цілими числами в діапазоні від 1 до 10 та виконайте на них поелементні операції додавання, віднімання та множення.\n",
    "a1 = np.random.randint(1,11, size=(5,))\n",
    "a2 = np.random.randint(1,11, size =(5,))\n",
    "print(a1, a2)\n",
    "print((a1+a2), (a1-a2), (a1*a2))"
   ]
  },
  {
   "cell_type": "code",
   "execution_count": 152,
   "id": "9d5bf0ff-2a91-4fa5-8eba-f2eeb9798a61",
   "metadata": {},
   "outputs": [
    {
     "name": "stdout",
     "output_type": "stream",
     "text": [
      "[18 14  4 19 14 14 15] [ 5 12  4  5 14 17  8] [ 90 168  16  95 196 238 120]\n"
     ]
    }
   ],
   "source": [
    "#Створіть два вектори розміром 7, заповніть довільними числами та знайдіть їх скалярний добуток.\n",
    "a1 = np.random.randint(1,20, size = (7,))\n",
    "a2 = np.random.randint(1,20, size = (7,))\n",
    "print(a1, a2, (a1*a2))"
   ]
  },
  {
   "cell_type": "code",
   "execution_count": 23,
   "id": "a654c98e-07ad-413b-b92b-eb0869881c22",
   "metadata": {},
   "outputs": [
    {
     "ename": "SyntaxError",
     "evalue": "unexpected character after line continuation character (388680760.py, line 7)",
     "output_type": "error",
     "traceback": [
      "\u001b[1;36m  Cell \u001b[1;32mIn[23], line 7\u001b[1;36m\u001b[0m\n\u001b[1;33m    print(a1\\n, a2, c)\u001b[0m\n\u001b[1;37m             ^\u001b[0m\n\u001b[1;31mSyntaxError\u001b[0m\u001b[1;31m:\u001b[0m unexpected character after line continuation character\n"
     ]
    }
   ],
   "source": [
    "#Створіть дві матриці розміром 2x2 та 2x3, заповніть їх випадковими цілими числами в діапазоні від 1 до 10 та перемножте їх між собою.\n",
    "a1 = np.random.randint(1,11, size=(2,2))\n",
    "a2 = np.random.randint(1,11, size=(2,3))\n",
    "\n",
    "c = np.dot(a1,a2)\n",
    "\n",
    "print(a1, a2, c)"
   ]
  },
  {
   "cell_type": "code",
   "execution_count": 192,
   "id": "06def803-1c6c-4ecc-901f-2e9fe5801df3",
   "metadata": {},
   "outputs": [
    {
     "name": "stdout",
     "output_type": "stream",
     "text": [
      "[[3 5 9]\n",
      " [6 2 1]\n",
      " [3 8 1]] [[-0.0173913   0.1942029  -0.03768116]\n",
      " [-0.00869565 -0.06956522  0.14782609]\n",
      " [ 0.12173913 -0.02608696 -0.06956522]]\n"
     ]
    }
   ],
   "source": [
    "#Створіть матрицю розміром 3x3, заповніть її випадковими цілими числами в діапазоні від 1 до 10 та знайдіть її обернену матрицю.\n",
    "a1 = np.random.randint(1,11, size = (3,3))\n",
    "a_inv = np.linalg.inv(a1)\n",
    "print(a1, a_inv)"
   ]
  },
  {
   "cell_type": "code",
   "execution_count": 232,
   "id": "d526ea70-7d88-425b-ba11-a9aaede1728b",
   "metadata": {},
   "outputs": [
    {
     "name": "stdout",
     "output_type": "stream",
     "text": [
      "[[0.04177764 0.27851893 0.22779657 0.33160746]\n",
      " [0.4230289  0.0335741  0.33710203 0.60819944]\n",
      " [0.2668653  0.78433533 0.28488892 0.54611055]\n",
      " [0.30259569 0.02363335 0.21244553 0.8583734 ]] [[0.04177764 0.4230289  0.2668653  0.30259569]\n",
      " [0.27851893 0.0335741  0.78433533 0.02363335]\n",
      " [0.22779657 0.33710203 0.28488892 0.21244553]\n",
      " [0.33160746 0.60819944 0.54611055 0.8583734 ]]\n"
     ]
    }
   ],
   "source": [
    "#Створіть матрицю розміром 4x4, заповніть її випадковими дійсними числами в діапазоні від 0 до 1 та транспонуйте її.\n",
    "a1 = np.random.random(size=(4,4)).astype(np.float64)\n",
    "at = a1.T\n",
    "print(a1, at)"
   ]
  },
  {
   "cell_type": "code",
   "execution_count": 222,
   "id": "87c900b1-4b66-4ce5-80a8-1605bab14a4d",
   "metadata": {},
   "outputs": [
    {
     "name": "stdout",
     "output_type": "stream",
     "text": [
      "[[7 5 4 1]\n",
      " [2 4 7 5]\n",
      " [4 4 2 1]] [5 7 9 8] [[35 35 36  8]\n",
      " [10 28 63 40]\n",
      " [20 28 18  8]]\n"
     ]
    }
   ],
   "source": [
    "#Створіть матрицю розміром 3x4 та вектор розміром 4, заповніть їх випадковими цілими числами в діапазоні від 1 до 10 та перемножте матрицю на вектор.\n",
    "m = np.random.randint(1,10, size=(3,4))\n",
    "v = np.random.randint(1,10, size = (4,))\n",
    "print(m, v, m*v)"
   ]
  },
  {
   "cell_type": "code",
   "execution_count": 238,
   "id": "616207a1-045b-45ba-9169-065f9be5490a",
   "metadata": {},
   "outputs": [
    {
     "name": "stdout",
     "output_type": "stream",
     "text": [
      "[[0.82333623 0.93614283 0.46218866]\n",
      " [0.60716329 0.50354039 0.89157432]] [0.34468406 0.06318186 0.00275879] [[0.28379087 0.05914724 0.00127508]\n",
      " [0.20927951 0.03181462 0.00245966]]\n"
     ]
    }
   ],
   "source": [
    "#Створіть матрицю розміром 2x3 та вектор розміром 3, заповніть їх випадковими дійсними числами в діапазоні від 0 до 1 та перемножте матрицю на вектор.\n",
    "a1 = np.random.random(size=(2,3)).astype(np.float64)\n",
    "v= np.random.random(size=(3,)).astype(np.float64)\n",
    "d = a1*v\n",
    "print(a1, v, d)"
   ]
  },
  {
   "cell_type": "code",
   "execution_count": 242,
   "id": "44fcfa1c-d956-4b85-9d13-2528985d6b4e",
   "metadata": {},
   "outputs": [
    {
     "name": "stdout",
     "output_type": "stream",
     "text": [
      "[[36 50]\n",
      " [21 15]]\n"
     ]
    }
   ],
   "source": [
    "#Створіть дві матриці розміром 2x2, заповніть їх випадковими цілими числами в діапазоні від 1 до 10 та виконайте їхнє поелементне множення.\n",
    "a1 = np.random.randint(1,11, size=(2,2))\n",
    "a2 = np.random.randint(1,11, size=(2,2))\n",
    "c=a1*a2\n",
    "print(c)\n"
   ]
  },
  {
   "cell_type": "code",
   "execution_count": 244,
   "id": "a59e8d27-3e1a-4fc2-85c7-5c45f0559519",
   "metadata": {},
   "outputs": [
    {
     "name": "stdout",
     "output_type": "stream",
     "text": [
      "[[56  6]\n",
      " [80 90]]\n"
     ]
    }
   ],
   "source": [
    "#Створіть дві матриці розміром 2x2, заповніть їх випадковими цілими числами в діапазоні від 1 до 10 та знайдіть їх добуток.\n",
    "a1 = np.random.randint(1,11, size=(2,2))\n",
    "a2 = np.random.randint(1,11, size=(2,2))\n",
    "c=a1*a2\n",
    "print(c)\n"
   ]
  },
  {
   "cell_type": "code",
   "execution_count": 302,
   "id": "46768498-9f19-44cd-869b-91c8572d8bd3",
   "metadata": {},
   "outputs": [
    {
     "name": "stdout",
     "output_type": "stream",
     "text": [
      "[[59 81 37 36 31]\n",
      " [83 55 98 31 74]\n",
      " [ 7 35 37 39 18]\n",
      " [27 55 23 34 57]\n",
      " [81 71 54 60 58]] 1241\n"
     ]
    }
   ],
   "source": [
    "#Створіть матрицю розміром 5x5, заповніть її випадковими цілими числами в діапазоні від 1 до 100 та знайдіть суму елементів матриці.\n",
    "a1 = np.random.randint(1,100, size=(5,5))\n",
    "s = np.sum(a1)\n",
    "print(a1, s)\n"
   ]
  },
  {
   "cell_type": "code",
   "execution_count": 304,
   "id": "8848a4fb-46bb-4913-b04a-763b2a0e05d6",
   "metadata": {},
   "outputs": [
    {
     "name": "stdout",
     "output_type": "stream",
     "text": [
      "[[-5  1  2  2]\n",
      " [-3 -1 -1  1]\n",
      " [-4  3 -5 -1]\n",
      " [-2 -2  4  6]]\n"
     ]
    }
   ],
   "source": [
    "#Створіть дві матриці розміром 4x4, заповніть їх випадковими цілими числами в діапазоні від 1 до 10 та знайдіть їхню різницю.\n",
    "a1 = np.random.randint(1,11, size=(4,4))\n",
    "a2 = np.random.randint(1,11, size=(4,4))\n",
    "c=a1-a2\n",
    "print(c)"
   ]
  },
  {
   "cell_type": "code",
   "execution_count": null,
   "id": "03e85f63-2e39-4417-a660-7ad7ca425595",
   "metadata": {},
   "outputs": [],
   "source": [
    "#Створіть матрицю розміром 3x3, заповніть її випадковими дійсними числами в діапазоні від 0 до 1 та знайдіть вектор-стовпчик,\n",
    "#що містить суму елементів кожного рядка матриці."
   ]
  },
  {
   "cell_type": "code",
   "execution_count": 312,
   "id": "efcb8795-fac5-458b-917f-b29e329ba92d",
   "metadata": {},
   "outputs": [
    {
     "name": "stdout",
     "output_type": "stream",
     "text": [
      "[[ 2 10  1 19]\n",
      " [ 6 10  1 12]\n",
      " [ 1  3  5 11]] [[  4 100   1 361]\n",
      " [ 36 100   1 144]\n",
      " [  1   9  25 121]]\n"
     ]
    }
   ],
   "source": [
    "#Створіть матрицю розміром 3x4 з довільними цілими числами і створінь матрицю з квадратами цих чисел.\n",
    "a= np.random.randint(1,20, size=(3,4))\n",
    "aa =a*a\n",
    "print(a, aa)\n"
   ]
  },
  {
   "cell_type": "code",
   "execution_count": 310,
   "id": "fc337eb7-721e-4088-bd73-94e421aedff2",
   "metadata": {},
   "outputs": [
    {
     "name": "stdout",
     "output_type": "stream",
     "text": [
      "[35 44 18  4] [5.91607978 6.63324958 4.24264069 2.        ]\n"
     ]
    }
   ],
   "source": [
    "#Створіть вектор розміром 4, заповніть його випадковими цілими числами в діапазоні від 1 до 50 та знайдіть вектор з квадратними коренями цих чисел.\n",
    "a= np.random.randint(1,51, size=(4,))\n",
    "asqrt =np.sqrt(a)\n",
    "print(a, asqrt)"
   ]
  },
  {
   "cell_type": "code",
   "execution_count": null,
   "id": "37f4b9e0-71fc-4fd2-8c85-5c2b34b923aa",
   "metadata": {},
   "outputs": [],
   "source": []
  }
 ],
 "metadata": {
  "kernelspec": {
   "display_name": "Python 3 (ipykernel)",
   "language": "python",
   "name": "python3"
  },
  "language_info": {
   "codemirror_mode": {
    "name": "ipython",
    "version": 3
   },
   "file_extension": ".py",
   "mimetype": "text/x-python",
   "name": "python",
   "nbconvert_exporter": "python",
   "pygments_lexer": "ipython3",
   "version": "3.12.4"
  }
 },
 "nbformat": 4,
 "nbformat_minor": 5
}
